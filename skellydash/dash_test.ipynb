{
 "cells": [
  {
   "cell_type": "code",
   "execution_count": 3,
   "metadata": {},
   "outputs": [],
   "source": [
    "import dash\n",
    "from dash import dcc\n",
    "from dash import html\n",
    "from dash.dependencies import Input, Output, State, ALL\n",
    "import dash_bootstrap_components as dbc\n",
    "from dash_bootstrap_templates import load_figure_template\n",
    "import json\n",
    "\n",
    "from full_skeleton_graph import create_skeleton_figure\n",
    "from pathlib import Path\n",
    "\n",
    "import plotly.express as px"
   ]
  },
  {
   "cell_type": "code",
   "execution_count": 4,
   "metadata": {},
   "outputs": [
    {
     "data": {
      "application/vnd.jupyter.widget-view+json": {
       "model_id": "44f51da9d16c476b8aa8f4e8f42aac27",
       "version_major": 2,
       "version_minor": 0
      },
      "text/plain": [
       "Output()"
      ]
     },
     "metadata": {},
     "output_type": "display_data"
    },
    {
     "data": {
      "text/html": [
       "<pre style=\"white-space:pre;overflow-x:auto;line-height:normal;font-family:Menlo,'DejaVu Sans Mono',consolas,'Courier New',monospace\"></pre>\n"
      ],
      "text/plain": []
     },
     "metadata": {},
     "output_type": "display_data"
    },
    {
     "data": {
      "text/html": [
       "<pre style=\"white-space:pre;overflow-x:auto;line-height:normal;font-family:Menlo,'DejaVu Sans Mono',consolas,'Courier New',monospace\">\n",
       "</pre>\n"
      ],
      "text/plain": [
       "\n"
      ]
     },
     "metadata": {},
     "output_type": "display_data"
    },
    {
     "data": {
      "application/vnd.jupyter.widget-view+json": {
       "model_id": "e92fb725d745472f8cb8f20bc4dbfee4",
       "version_major": 2,
       "version_minor": 0
      },
      "text/plain": [
       "Output()"
      ]
     },
     "metadata": {},
     "output_type": "display_data"
    },
    {
     "data": {
      "text/html": [
       "<pre style=\"white-space:pre;overflow-x:auto;line-height:normal;font-family:Menlo,'DejaVu Sans Mono',consolas,'Courier New',monospace\"></pre>\n"
      ],
      "text/plain": []
     },
     "metadata": {},
     "output_type": "display_data"
    },
    {
     "data": {
      "text/html": [
       "<pre style=\"white-space:pre;overflow-x:auto;line-height:normal;font-family:Menlo,'DejaVu Sans Mono',consolas,'Courier New',monospace\">\n",
       "</pre>\n"
      ],
      "text/plain": [
       "\n"
      ]
     },
     "metadata": {},
     "output_type": "display_data"
    },
    {
     "data": {
      "application/vnd.jupyter.widget-view+json": {
       "model_id": "78f1017d61714eb98187bffead6dd2c3",
       "version_major": 2,
       "version_minor": 0
      },
      "text/plain": [
       "Output()"
      ]
     },
     "metadata": {},
     "output_type": "display_data"
    },
    {
     "data": {
      "text/html": [
       "<pre style=\"white-space:pre;overflow-x:auto;line-height:normal;font-family:Menlo,'DejaVu Sans Mono',consolas,'Courier New',monospace\"></pre>\n"
      ],
      "text/plain": []
     },
     "metadata": {},
     "output_type": "display_data"
    },
    {
     "data": {
      "text/html": [
       "<pre style=\"white-space:pre;overflow-x:auto;line-height:normal;font-family:Menlo,'DejaVu Sans Mono',consolas,'Courier New',monospace\">\n",
       "</pre>\n"
      ],
      "text/plain": [
       "\n"
      ]
     },
     "metadata": {},
     "output_type": "display_data"
    },
    {
     "data": {
      "text/html": [
       "\n",
       "        <iframe\n",
       "            width=\"100%\"\n",
       "            height=\"650\"\n",
       "            src=\"http://127.0.0.1:8050/\"\n",
       "            frameborder=\"0\"\n",
       "            allowfullscreen\n",
       "            \n",
       "        ></iframe>\n",
       "        "
      ],
      "text/plain": [
       "<IPython.lib.display.IFrame at 0x1a17e313430>"
      ]
     },
     "metadata": {},
     "output_type": "display_data"
    }
   ],
   "source": [
    "\n",
    "app = dash.Dash(__name__, external_stylesheets=[dbc.themes.LUX])\n",
    "\n",
    "load_figure_template('LUX')\n",
    "\n",
    "path_to_numpy_array = Path(r\"D:\\2023-05-17_MDN_NIH_data\\1.0_recordings\\calib_3\\sesh_2023-05-17_15_36_03_MDN_OneLeg_Trial1\\output_data\\mediapipe_body_3d_xyz.npy\")\n",
    "color_of_cards = '#F3F5F7'\n",
    "\n",
    "marker_figure, marker_position_df = create_skeleton_figure(path_to_numpy_array)\n",
    "\n",
    "\n",
    "marker_figure.update_layout(paper_bgcolor=color_of_cards, plot_bgcolor=color_of_cards)\n",
    "\n",
    "\n",
    "# create list of marker names\n",
    "def display_marker_list():\n",
    "    unique_markers = sorted(marker_position_df['marker'].unique())\n",
    "    marker_list = []\n",
    "    for idx, marker in enumerate(unique_markers):\n",
    "        marker_list.append(\n",
    "            html.Button(\n",
    "                marker, \n",
    "                id={'type': 'marker-button', 'index': marker}, \n",
    "                className='btn btn-dark', \n",
    "                style={'margin': '5px', 'width': '140px', 'height': '40px', 'padding': '2px', 'word-wrap': 'break-word'}\n",
    "            )\n",
    "        )\n",
    "        # Insert a line break after each pair of markers to create two columns\n",
    "        if (idx + 1) % 2 == 0:\n",
    "            marker_list.append(html.Br())\n",
    "    return marker_list\n",
    "\n",
    "app.layout = dbc.Container([\n",
    "    dbc.Row([\n",
    "        dbc.Col([\n",
    "            dbc.Card([\n",
    "                dbc.CardHeader(\n",
    "                    html.H2(\"3D Scatter Plot\", className=\"text-primary\"),\n",
    "                    className=\"text-primary\"\n",
    "                ),\n",
    "                dbc.CardBody([\n",
    "                    dcc.Graph(id='main-graph', figure=marker_figure),\n",
    "                ],\n",
    "                style={\"backgroundColor\": color_of_cards}\n",
    "                )\n",
    "            ], className=\"mb-4 mt-4\"),\n",
    "            dbc.Card([\n",
    "                dbc.CardHeader(\n",
    "                    html.H2(\"Marker List\", className = \"text-primary\")\n",
    "                ),\n",
    "                dbc.CardBody([\n",
    "                    dbc.Row([\n",
    "                        dbc.Col([\n",
    "                            html.Div(id='marker-list', \n",
    "                                     children=display_marker_list(), \n",
    "                                     style={'display': 'flex', 'flexWrap': 'wrap'})\n",
    "                        ])\n",
    "                    ])\n",
    "                ])\n",
    "            ], style={\"backgroundColor\": color_of_cards}, className=\"mb-4\")  # Updated line\n",
    "        ], md=6, style={'height': '25vh'}),\n",
    "        dbc.Col(\n",
    "            dbc.Container([\n",
    "                dbc.Card([\n",
    "                    dbc.CardHeader(\n",
    "                        html.H2(\"Marker Trajectory\", className=\"text-primary\")\n",
    "                    ),\n",
    "                    dbc.CardBody([\n",
    "                        html.H3(id='selected-marker', children=\"Select a marker\", className=\"text-info\"),\n",
    "                        html.Div(id='trajectory-plots')  # This Div will contain the plots\n",
    "                    ],\n",
    "                    style={\"backgroundColor\": color_of_cards}\n",
    "                    )\n",
    "                ],\n",
    "                className=\"mb-4 mt-4\"\n",
    "                )\n",
    "            ], style={'height': '25vh'}),\n",
    "            md=5\n",
    "        )\n",
    "    ])\n",
    "], fluid=True)\n",
    "\n",
    "\n",
    "@app.callback(\n",
    "    [Output('selected-marker', 'children'),\n",
    "     Output({'type': 'marker-button', 'index': ALL}, 'className'),\n",
    "     Output('trajectory-plots', 'children')],\n",
    "    [Input('main-graph', 'clickData'),\n",
    "     Input('main-graph', 'hoverData'),  # New Input for hoverData\n",
    "     Input({'type': 'marker-button', 'index': ALL}, 'n_clicks')],\n",
    "    [State('selected-marker', 'children'),\n",
    "     State({'type': 'marker-button', 'index': ALL}, 'id')]\n",
    ")\n",
    "def display_trajectories(clickData, hoverData, marker_clicks, selected_marker, button_ids):\n",
    "    ctx = dash.callback_context\n",
    "    if not ctx.triggered:\n",
    "        return dash.no_update\n",
    "    else:\n",
    "        input_id = ctx.triggered[0]['prop_id'].split('.')[0]\n",
    "    \n",
    "    if 'marker-button' in input_id:\n",
    "        marker = json.loads(input_id)['index']\n",
    "    elif clickData is not None and 'points' in clickData and len(clickData['points']) > 0 and 'id' in clickData['points'][0]:\n",
    "        marker = clickData['points'][0]['id']\n",
    "    else:\n",
    "        marker = selected_marker\n",
    "\n",
    "    updated_classnames = []\n",
    "    for button_id in button_ids:\n",
    "        if button_id['index'] == marker:\n",
    "            updated_classnames.append('btn btn-warning')\n",
    "        elif hoverData is not None and 'points' in hoverData and len(hoverData['points']) > 0 and 'id' in hoverData['points'][0] and button_id['index'] == hoverData['points'][0]['id']: \n",
    "            updated_classnames.append('btn btn-info')  \n",
    "        else:\n",
    "            updated_classnames.append('btn btn-dark')\n",
    "\n",
    "    df_marker = marker_position_df[marker_position_df.marker == marker]\n",
    "\n",
    "    if df_marker.empty:\n",
    "        return marker, updated_classnames, None\n",
    "\n",
    "    # Check if the trigger was a hover event. If it was, do not update the plots\n",
    "    if \"hoverData\" in input_id:\n",
    "        return marker, updated_classnames, dash.no_update\n",
    "\n",
    "    # If the trigger was not a hover event, proceed with generating and returning the plots\n",
    "    trajectory_plot_height = 350\n",
    "    fig_x = px.line(df_marker, x='frame', y='x')\n",
    "    fig_x.update_xaxes(title_text = '', showticklabels=False)\n",
    "    fig_x.update_yaxes(title_text='X', title_font=dict(size=18, ))\n",
    "    fig_x.update_layout(paper_bgcolor=color_of_cards)\n",
    "\n",
    "    fig_y = px.line(df_marker, x='frame', y='y')\n",
    "    fig_y.update_xaxes(title_text = '',showticklabels=False)\n",
    "    fig_y.update_yaxes(title_text='Y', title_font=dict(size=18,))\n",
    "    fig_y.update_layout(margin=dict(t=5), paper_bgcolor=color_of_cards, height = trajectory_plot_height)\n",
    "\n",
    "    fig_z = px.line(df_marker, x='frame', y='z')\n",
    "    fig_z.update_xaxes(title_text='Frame', title_font=dict(size=18))\n",
    "    fig_z.update_yaxes(title_text='Z', title_font=dict(size=18))\n",
    "    fig_z.update_layout(margin=dict(t=5), paper_bgcolor=color_of_cards, height = trajectory_plot_height)\n",
    "\n",
    "    return marker, updated_classnames, [dcc.Graph(figure=fig_x), dcc.Graph(figure=fig_y), dcc.Graph(figure=fig_z)]\n",
    "\n",
    "if __name__ == '__main__':\n",
    "    app.run_server()\n"
   ]
  }
 ],
 "metadata": {
  "kernelspec": {
   "display_name": "plotly_dash_env",
   "language": "python",
   "name": "python3"
  },
  "language_info": {
   "codemirror_mode": {
    "name": "ipython",
    "version": 3
   },
   "file_extension": ".py",
   "mimetype": "text/x-python",
   "name": "python",
   "nbconvert_exporter": "python",
   "pygments_lexer": "ipython3",
   "version": "3.10.12"
  },
  "orig_nbformat": 4
 },
 "nbformat": 4,
 "nbformat_minor": 2
}
